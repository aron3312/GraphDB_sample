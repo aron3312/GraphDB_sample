{
 "cells": [
  {
   "cell_type": "code",
   "execution_count": 1,
   "metadata": {},
   "outputs": [],
   "source": [
    "from nlp_tool import *\n",
    "import json"
   ]
  },
  {
   "cell_type": "markdown",
   "metadata": {},
   "source": [
    "## 取得文本資料"
   ]
  },
  {
   "cell_type": "code",
   "execution_count": 2,
   "metadata": {},
   "outputs": [
    {
     "name": "stdout",
     "output_type": "stream",
     "text": [
      "dict_keys(['court', 'date', 'no', 'sys', 'reason', 'judgement', 'type', 'historyHash', 'mainText', 'opinion', 'relatedIssues', 'party'])\n"
     ]
    }
   ],
   "source": [
    "with open('data/sample.json', 'r', encoding='utf-8') as f:\n",
    "    sample = json.load(f)\n",
    "print(sample[0].keys())"
   ]
  },
  {
   "cell_type": "code",
   "execution_count": 3,
   "metadata": {},
   "outputs": [
    {
     "name": "stdout",
     "output_type": "stream",
     "text": [
      "{'court': '臺灣新北地方法院', 'date': '2009-03-25T00:00:00+08:00', 'no': '98,調,34', 'sys': '刑事', 'reason': '公然侮辱', 'judgement': '調解成立筆錄聲請人甲○○民國.法定代理人乙○○相對人丙○○民國.法定代理人丁○○上列當事人間因98年度調字第34號因98年度少調字第275號公然侮辱事件移付調解，於中華民國98年3月25日下午2時整在本院板橋第二院區調解處調解爭議，出席職員如下：法官劉麗君書記官李書珏調解委員陳阿治到庭關係人：聲請人甲○○、代理人乙○○、相對人丙○○、法定代理人丁○○調解成立協議內容如下：一、聲請人及其法定代理人願意無條件原諒相對人丙○○之行為。二、聲請人及其法定代理人對於相對人丙○○及其法定代理人之其餘請求拋棄。三、程序費用由兩造各自負擔。上列筆錄所載調解成立協議內容經交關係人閱覽並無異議後簽名中華民國98年3月25日以上筆錄正本係照原本作成。本件不得抗告。書記官李書珏中華民國98年3月26日', 'type': '', 'historyHash': '', 'mainText': '', 'opinion': '', 'relatedIssues': [], 'party': [{'group': ['plaintiff'], 'title': '聲請人', 'value': '甲○○'}, {'group': [], 'title': '法定代理人', 'value': '乙○○'}, {'group': [], 'title': '相對人', 'value': '丙○○'}, {'group': [], 'title': '法定代理人', 'value': '丁○○'}]}\n"
     ]
    }
   ],
   "source": [
    "print(sample[0])"
   ]
  },
  {
   "cell_type": "markdown",
   "metadata": {},
   "source": [
    "## 針對裁判書內文進行詞性斷詞"
   ]
  },
  {
   "cell_type": "code",
   "execution_count": 4,
   "metadata": {},
   "outputs": [
    {
     "name": "stderr",
     "output_type": "stream",
     "text": [
      "Building prefix dict from the default dictionary ...\n",
      "Loading model from cache C:\\Users\\user\\AppData\\Local\\Temp\\jieba.cache\n",
      "Loading model cost 0.618 seconds.\n",
      "Prefix dict has been built succesfully.\n"
     ]
    }
   ],
   "source": [
    "cut_result = pos_cut(sample[0]['judgement'])"
   ]
  },
  {
   "cell_type": "code",
   "execution_count": 5,
   "metadata": {},
   "outputs": [
    {
     "data": {
      "text/plain": [
       "[('調解', 'v'),\n",
       " ('成立', 'v'),\n",
       " ('筆錄', 'n'),\n",
       " ('聲', 'q'),\n",
       " ('請', 'v'),\n",
       " ('人', 'n'),\n",
       " ('甲', 'n'),\n",
       " ('○', 'x'),\n",
       " ('○', 'x'),\n",
       " ('民國', 'nt'),\n",
       " ('.', 'm'),\n",
       " ('法定代理', 'n'),\n",
       " ('人乙', 'n'),\n",
       " ('○', 'x'),\n",
       " ('○', 'x'),\n",
       " ('相對', 'd'),\n",
       " ('人丙', 'n'),\n",
       " ('○', 'x'),\n",
       " ('○', 'x'),\n",
       " ('民國', 'nt'),\n",
       " ('.', 'm'),\n",
       " ('法定代理', 'n'),\n",
       " ('人丁', 'n'),\n",
       " ('○', 'x'),\n",
       " ('○', 'x'),\n",
       " ('上列', 'b'),\n",
       " ('當事', 'n'),\n",
       " ('人間', 'n'),\n",
       " ('因', 'c'),\n",
       " ('98', 'm'),\n",
       " ('年度', 'n'),\n",
       " ('調字', 'nz'),\n",
       " ('第', 'm'),\n",
       " ('34', 'm'),\n",
       " ('號', 'm'),\n",
       " ('因', 'c'),\n",
       " ('98', 'm'),\n",
       " ('年度', 'n'),\n",
       " ('少', 'a'),\n",
       " ('調', 'v'),\n",
       " ('字', 'n'),\n",
       " ('第', 'm'),\n",
       " ('275', 'm'),\n",
       " ('號', 'm'),\n",
       " ('公然侮辱', 'vn'),\n",
       " ('事件', 'n'),\n",
       " ('移付', 'vn'),\n",
       " ('調解', 'vn'),\n",
       " ('，', 'x'),\n",
       " ('於', 'nr'),\n",
       " ('中華民國', 'ns'),\n",
       " ('98', 'm'),\n",
       " ('年', 'm'),\n",
       " ('3', 'm'),\n",
       " ('月', 'm'),\n",
       " ('25', 'm'),\n",
       " ('日', 'm'),\n",
       " ('下午', 't'),\n",
       " ('2', 'm'),\n",
       " ('時', 'ng'),\n",
       " ('整在', 'v'),\n",
       " ('本院', 'n'),\n",
       " ('板橋', 'n'),\n",
       " ('第二', 'm'),\n",
       " ('院區', 'n'),\n",
       " ('調解', 'v'),\n",
       " ('處調', 'v'),\n",
       " ('解爭', 'nz'),\n",
       " ('議', 'n'),\n",
       " ('，', 'x'),\n",
       " ('出席', 'v'),\n",
       " ('職員', 'n'),\n",
       " ('如下', 't'),\n",
       " ('：', 'x'),\n",
       " ('法官', 'n'),\n",
       " ('劉麗君', 'nr'),\n",
       " ('書', 'n'),\n",
       " ('記官', 'n'),\n",
       " ('李書珏', 'nr'),\n",
       " ('調解', 'v'),\n",
       " ('委員', 'n'),\n",
       " ('陳阿治', 'nr'),\n",
       " ('到庭', 'd'),\n",
       " ('關', 'v'),\n",
       " ('係', 'zg'),\n",
       " ('人', 'n'),\n",
       " ('：', 'x'),\n",
       " ('聲', 'q'),\n",
       " ('請', 'v'),\n",
       " ('人', 'n'),\n",
       " ('甲', 'n'),\n",
       " ('○', 'x'),\n",
       " ('○', 'x'),\n",
       " ('、', 'x'),\n",
       " ('代理人', 'n'),\n",
       " ('乙', 'n'),\n",
       " ('○', 'x'),\n",
       " ('○', 'x'),\n",
       " ('、', 'x'),\n",
       " ('相對', 'd'),\n",
       " ('人丙', 'n'),\n",
       " ('○', 'x'),\n",
       " ('○', 'x'),\n",
       " ('、', 'x'),\n",
       " ('法定代理', 'n'),\n",
       " ('人丁', 'n'),\n",
       " ('○', 'x'),\n",
       " ('○', 'x'),\n",
       " ('調解', 'v'),\n",
       " ('成立', 'v'),\n",
       " ('協議', 'n'),\n",
       " ('內容', 'n'),\n",
       " ('如下', 't'),\n",
       " ('：', 'x'),\n",
       " ('一', 'm'),\n",
       " ('、', 'x'),\n",
       " ('聲', 'q'),\n",
       " ('請', 'v'),\n",
       " ('人', 'n'),\n",
       " ('及其', 'c'),\n",
       " ('法定代理', 'n'),\n",
       " ('人', 'n'),\n",
       " ('願意', 'v'),\n",
       " ('無', 'v'),\n",
       " ('條件', 'n'),\n",
       " ('原諒', 'v'),\n",
       " ('相對', 'v'),\n",
       " ('人丙', 'n'),\n",
       " ('○', 'x'),\n",
       " ('○', 'x'),\n",
       " ('之行', 'r'),\n",
       " ('為', 'p'),\n",
       " ('。', 'x'),\n",
       " ('二', 'm'),\n",
       " ('、', 'x'),\n",
       " ('聲', 'q'),\n",
       " ('請', 'v'),\n",
       " ('人', 'n'),\n",
       " ('及其', 'c'),\n",
       " ('法定代理', 'n'),\n",
       " ('人', 'n'),\n",
       " ('對', 'p'),\n",
       " ('於相', 'nr'),\n",
       " ('對', 'p'),\n",
       " ('人丙', 'n'),\n",
       " ('○', 'x'),\n",
       " ('○', 'x'),\n",
       " ('及其', 'c'),\n",
       " ('法定代理', 'n'),\n",
       " ('人', 'n'),\n",
       " ('之', 'u'),\n",
       " ('其餘', 'r'),\n",
       " ('請求', 'v'),\n",
       " ('拋棄', 'v'),\n",
       " ('。', 'x'),\n",
       " ('三', 'm'),\n",
       " ('、', 'x'),\n",
       " ('程序', 'n'),\n",
       " ('費用', 'n'),\n",
       " ('由', 'p'),\n",
       " ('兩', 'm'),\n",
       " ('造', 'v'),\n",
       " ('各自', 'r'),\n",
       " ('負擔', 'v'),\n",
       " ('。', 'x'),\n",
       " ('上列', 'b'),\n",
       " ('筆錄', 'n'),\n",
       " ('所載', 'b'),\n",
       " ('調解', 'vn'),\n",
       " ('成立', 'v'),\n",
       " ('協議', 'n'),\n",
       " ('內容', 'n'),\n",
       " ('經交', 'n'),\n",
       " ('關', 'v'),\n",
       " ('係', 'zg'),\n",
       " ('人', 'n'),\n",
       " ('閱', 'vg'),\n",
       " ('覽', 'vg'),\n",
       " ('並', 'c'),\n",
       " ('無', 'v'),\n",
       " ('異', 'vg'),\n",
       " ('議', 'v'),\n",
       " ('後', 'nr'),\n",
       " ('簽', 'v'),\n",
       " ('名', 'q'),\n",
       " ('中', 'f'),\n",
       " ('華', 'j'),\n",
       " ('民', 'ng'),\n",
       " ('國', 'n'),\n",
       " ('98', 'm'),\n",
       " ('年', 'm'),\n",
       " ('3', 'm'),\n",
       " ('月', 'm'),\n",
       " ('25', 'm'),\n",
       " ('日', 'm'),\n",
       " ('以上', 'f'),\n",
       " ('筆錄', 'n'),\n",
       " ('正本', 'a'),\n",
       " ('係', 'yg'),\n",
       " ('照', 'v'),\n",
       " ('原本', 'n'),\n",
       " ('作成', 'v'),\n",
       " ('。', 'x'),\n",
       " ('本', 'r'),\n",
       " ('件', 'zg'),\n",
       " ('不得', 'v'),\n",
       " ('抗告', 'n'),\n",
       " ('。', 'x'),\n",
       " ('書', 'n'),\n",
       " ('記官', 'n'),\n",
       " ('李書珏', 'nr'),\n",
       " ('中華民國', 'ns'),\n",
       " ('98', 'm'),\n",
       " ('年', 'm'),\n",
       " ('3', 'm'),\n",
       " ('月', 'm'),\n",
       " ('26', 'm'),\n",
       " ('日', 'm')]"
      ]
     },
     "execution_count": 5,
     "metadata": {},
     "output_type": "execute_result"
    }
   ],
   "source": [
    "cut_result"
   ]
  },
  {
   "cell_type": "code",
   "execution_count": 6,
   "metadata": {},
   "outputs": [
    {
     "data": {
      "text/plain": [
       "[('法官', '劉麗君'), ('記官', '李書珏'), ('委員', '陳阿治'), ('記官', '李書珏')]"
      ]
     },
     "execution_count": 6,
     "metadata": {},
     "output_type": "execute_result"
    }
   ],
   "source": [
    "extract_feature(cut_result)"
   ]
  },
  {
   "cell_type": "markdown",
   "metadata": {},
   "source": [
    "## 正規表示擷取有意義的字段"
   ]
  },
  {
   "cell_type": "code",
   "execution_count": 7,
   "metadata": {},
   "outputs": [
    {
     "data": {
      "text/plain": [
       "[[],\n",
       " [],\n",
       " [],\n",
       " ['斗六就業服務站', '幹你娘雞歪'],\n",
       " ['你四處給人家幹你比較厲害'],\n",
       " [],\n",
       " [],\n",
       " ['公然', '不要臉'],\n",
       " ['幹妳娘、垃圾、流氓', '被告2人不滿程燕芳出面理論而開口辱罵', '被告2人確實口出惡言'],\n",
       " ['幹你娘臭雞巴'],\n",
       " ['屌那妹子百、那妹子百（客語）'],\n",
       " ['真不要臉耶', '真不要臉', '真不要臉耶'],\n",
       " ['不要臉', '不要臉，你父母親都死了，你不要臉', '你爸爸死掉了', '你父母不是死了嗎'],\n",
       " ['阿宏海產店'],\n",
       " ['雞歪、幹、畜牲'],\n",
       " ['幹你娘（台語）', '幹', '幹', '幹你娘'],\n",
       " [],\n",
       " ['幹你娘雞巴'],\n",
       " ['幹你老母、得雞歪', '幹你老母、得雞歪'],\n",
       " ['瘋女人（台語）'],\n",
       " [],\n",
       " ['幹妳娘'],\n",
       " ['保全！幹你娘機掰（台語）'],\n",
       " [],\n",
       " ['矮子猴'],\n",
       " ['你母雞掰'],\n",
       " ['賤'],\n",
       " ['丟臉死'],\n",
       " [],\n",
       " []]"
      ]
     },
     "execution_count": 7,
     "metadata": {},
     "output_type": "execute_result"
    }
   ],
   "source": [
    "# 擷取罵人的詞語\n",
    "[regexp_match(p['judgement'], '「(.+?)」', '罵') for p in sample]"
   ]
  },
  {
   "cell_type": "code",
   "execution_count": 11,
   "metadata": {},
   "outputs": [
    {
     "data": {
      "text/plain": [
       "['',\n",
       " '',\n",
       " '以新臺幣壹仟元折算壹日',\n",
       " '',\n",
       " '',\n",
       " '新臺幣柒仟元',\n",
       " '',\n",
       " '新臺幣貳仟元',\n",
       " '',\n",
       " '',\n",
       " '',\n",
       " '',\n",
       " '',\n",
       " '',\n",
       " '',\n",
       " '',\n",
       " '',\n",
       " '新台幣參仟元',\n",
       " '',\n",
       " '',\n",
       " '',\n",
       " '新臺幣陸仟元',\n",
       " '',\n",
       " '',\n",
       " '',\n",
       " '',\n",
       " '',\n",
       " '',\n",
       " '',\n",
       " '']"
      ]
     },
     "execution_count": 11,
     "metadata": {},
     "output_type": "execute_result"
    }
   ],
   "source": [
    "# 擷取罰金金額\n",
    "[regexp_match(p['mainText'],'.*[處科]罰金([^，。]+).*' , None) for p in sample]"
   ]
  },
  {
   "cell_type": "code",
   "execution_count": 13,
   "metadata": {},
   "outputs": [
    {
     "data": {
      "text/plain": [
       "['',\n",
       " '',\n",
       " '貳拾日',\n",
       " '',\n",
       " '拾日',\n",
       " '',\n",
       " '',\n",
       " '',\n",
       " '',\n",
       " '',\n",
       " '',\n",
       " '',\n",
       " '貳拾日',\n",
       " '伍拾日',\n",
       " '',\n",
       " '參拾日',\n",
       " '',\n",
       " '',\n",
       " '',\n",
       " '',\n",
       " '',\n",
       " '',\n",
       " '',\n",
       " '',\n",
       " '',\n",
       " '',\n",
       " '',\n",
       " '',\n",
       " '',\n",
       " '']"
      ]
     },
     "execution_count": 13,
     "metadata": {},
     "output_type": "execute_result"
    }
   ],
   "source": [
    "# 擷取有期徒刑日期\n",
    "\n",
    "[regexp_match(p['mainText'],'.*處拘役([^，。]+).*' , None) for p in sample]"
   ]
  },
  {
   "cell_type": "markdown",
   "metadata": {},
   "source": [
    "## 將知識建立在neo4j"
   ]
  },
  {
   "cell_type": "code",
   "execution_count": 14,
   "metadata": {},
   "outputs": [],
   "source": [
    "from py2neo import Graph, Node, Relationship"
   ]
  },
  {
   "cell_type": "code",
   "execution_count": 15,
   "metadata": {},
   "outputs": [],
   "source": [
    "server = \"\"\n",
    "user = \"\"\n",
    "password = \"\"\n",
    "remote_graph = Graph('bolt://{}'.format(server), user=user, password=password)"
   ]
  },
  {
   "cell_type": "code",
   "execution_count": 19,
   "metadata": {},
   "outputs": [],
   "source": [
    "all = []\n",
    "for judge in sample:\n",
    "    cut_result = pos_cut(judge['judgement'])\n",
    "    person_entity = extract_feature(cut_result)\n",
    "    dirty_words = regexp_match(judge['judgement'], '「(.+?)」', '罵')\n",
    "    money = regexp_match(judge['mainText'],'.*[處科]罰金([^，。]+).*' , None)\n",
    "    days = regexp_match(judge['mainText'],'.*處拘役([^，。]+).*' , None)\n",
    "    j_sample = (judge['court'] + judge['sys'] + judge['no'], set(person_entity), dirty_words, money, days)\n",
    "    all.append(j_sample)"
   ]
  },
  {
   "cell_type": "code",
   "execution_count": 21,
   "metadata": {},
   "outputs": [
    {
     "data": {
      "text/plain": [
       "<Bookmark 'FB:kcwQ4YLrf0sxSKG5vTds+T3B4mOQ'>"
      ]
     },
     "execution_count": 21,
     "metadata": {},
     "output_type": "execute_result"
    }
   ],
   "source": [
    "tx = remote_graph.begin()\n",
    "d = {}\n",
    "count = 0\n",
    "for a in all:\n",
    "    judge = Node(\"裁判書\", name=a[0])\n",
    "    for rel in a[1]:\n",
    "        if rel not in d:\n",
    "            node = Node(rel[0], name=rel[1])\n",
    "            d[rel] = node\n",
    "        else:\n",
    "            node = d[rel]\n",
    "        relation = Relationship(node, \"屬於\", judge)\n",
    "        if rel[0] == '被告' and a[2]:\n",
    "            for bad_word in a[2]:\n",
    "                if bad_word not in d:\n",
    "                    d[bad_word] = Node(\"語詞\", name=bad_word)\n",
    "                relation_bad = Relationship(node, \"罵\", d[bad_word])\n",
    "                relation_bad_con = Relationship(d[bad_word], \"屬於\", judge)\n",
    "                tx.create(relation_bad)\n",
    "                tx.create(relation_bad_con)\n",
    "        if rel[0] == '被告' and a[3]:\n",
    "            if ('罰金', a[3]) not in d:\n",
    "                d[('罰金', a[3])] = Node('罰金', size=a[3])\n",
    "            relation_money = Relationship(node, \"遭判\", d[('罰金', a[3])])\n",
    "            relation_money_j = Relationship(d[('罰金', a[3])], \"屬於\", judge)\n",
    "            tx.create(relation_money)\n",
    "            tx.create(relation_money_j)\n",
    "        if rel[0] == '被告' and a[4]:\n",
    "            if ('拘役', a[4]) not in d:\n",
    "                d[('拘役', a[4])] = Node('拘役', size=a[4])\n",
    "            relation_day = Relationship(node, \"遭判\", d[('拘役', a[4])])\n",
    "            relation_day_j = Relationship(d[('拘役', a[4])], \"屬於\", judge)\n",
    "            tx.create(relation_day)\n",
    "            tx.create(relation_day_j)\n",
    "        tx.create(relation)\n",
    "    count += 1\n",
    "    if count == 500:\n",
    "        tx.commit()\n",
    "        tx = remote_graph.begin()\n",
    "        count = 0\n",
    "tx.commit()"
   ]
  }
 ],
 "metadata": {
  "kernelspec": {
   "display_name": "Python 3",
   "language": "python",
   "name": "python3"
  },
  "language_info": {
   "codemirror_mode": {
    "name": "ipython",
    "version": 3
   },
   "file_extension": ".py",
   "mimetype": "text/x-python",
   "name": "python",
   "nbconvert_exporter": "python",
   "pygments_lexer": "ipython3",
   "version": "3.6.5"
  }
 },
 "nbformat": 4,
 "nbformat_minor": 2
}
